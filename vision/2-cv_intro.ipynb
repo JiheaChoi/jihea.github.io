{
 "cells": [
  {
   "cell_type": "markdown",
   "id": "dedicated-bronze",
   "metadata": {},
   "source": [
    "### Image reads and wirtes"
   ]
  },
  {
   "cell_type": "code",
   "execution_count": 1,
   "id": "adequate-function",
   "metadata": {},
   "outputs": [],
   "source": [
    "import cv2\n",
    "import platform"
   ]
  },
  {
   "cell_type": "code",
   "execution_count": 2,
   "id": "extensive-feature",
   "metadata": {},
   "outputs": [
    {
     "name": "stdout",
     "output_type": "stream",
     "text": [
      "OpenCV version: 4.4.0\n",
      "Python version: 3.8.8\n"
     ]
    }
   ],
   "source": [
    "print('OpenCV version: {}'.format(cv2.__version__))\n",
    "print('Python version: {}'.format(platform.python_version()))"
   ]
  },
  {
   "cell_type": "code",
   "execution_count": 3,
   "id": "unique-colors",
   "metadata": {},
   "outputs": [
    {
     "name": "stdout",
     "output_type": "stream",
     "text": [
      "C:\\Users\\i\\Desktop\\2021-K-Digital-Training-main\n"
     ]
    }
   ],
   "source": [
    "!cd"
   ]
  },
  {
   "cell_type": "code",
   "execution_count": 2,
   "id": "geographic-hudson",
   "metadata": {},
   "outputs": [],
   "source": [
    "src = cv2.imread('.\\\\data3.png')"
   ]
  },
  {
   "cell_type": "code",
   "execution_count": 7,
   "id": "noticed-helena",
   "metadata": {},
   "outputs": [],
   "source": [
    "#flipped = cv2.flip(src, -1)"
   ]
  },
  {
   "cell_type": "code",
   "execution_count": 9,
   "id": "ultimate-clearance",
   "metadata": {},
   "outputs": [],
   "source": [
    "cv2.imshow('Image', src)\n",
    "#cv2.imshow('Image flipped', flipped)\n",
    "#cv2.imwrite('.\\\\images\\\\flipped_penguins.png', flipped)\n",
    "cv2.waitKey(0) # 0 forever \n",
    "cv2.destroyAllWindows()"
   ]
  },
  {
   "cell_type": "code",
   "execution_count": 10,
   "id": "a96d83c4-b75d-4fff-a10c-3067bda19390",
   "metadata": {},
   "outputs": [
    {
     "data": {
      "text/plain": [
       "3"
      ]
     },
     "execution_count": 10,
     "metadata": {},
     "output_type": "execute_result"
    }
   ],
   "source": [
    "src.ndim"
   ]
  },
  {
   "cell_type": "code",
   "execution_count": 11,
   "id": "c30c708b-3714-4da4-86a6-5a25e034e30f",
   "metadata": {},
   "outputs": [
    {
     "data": {
      "text/plain": [
       "(441, 592, 3)"
      ]
     },
     "execution_count": 11,
     "metadata": {},
     "output_type": "execute_result"
    }
   ],
   "source": [
    "src.shape"
   ]
  },
  {
   "cell_type": "code",
   "execution_count": null,
   "id": "3a529ade-f9dd-490d-badb-d65374cd6846",
   "metadata": {},
   "outputs": [],
   "source": [
    "# 50, 50 -> 150, 150"
   ]
  },
  {
   "cell_type": "code",
   "execution_count": null,
   "id": "eef9dba8-871c-45e6-b2d5-e762a183386d",
   "metadata": {},
   "outputs": [],
   "source": [
    "# 새출발"
   ]
  },
  {
   "cell_type": "code",
   "execution_count": 1,
   "id": "f6192c54-0857-40ee-aa80-cadfde00566e",
   "metadata": {},
   "outputs": [],
   "source": [
    "import cv2\n",
    "#import platform"
   ]
  },
  {
   "cell_type": "code",
   "execution_count": 3,
   "id": "fce14312-5dd2-4187-9f22-2719bd3f4283",
   "metadata": {},
   "outputs": [],
   "source": [
    "src = cv2.imread('.\\\\data3.png', cv2.IMREAD_UNCHANGED)"
   ]
  },
  {
   "cell_type": "code",
   "execution_count": 4,
   "id": "1ae1608d-6752-4c02-a2a8-80ec67143a55",
   "metadata": {},
   "outputs": [],
   "source": [
    "#src_face = src[50:150, 50:150]\n",
    "src_face2 = src[80:180, 270:370]  #data3.png 에서 고양이만 추출"
   ]
  },
  {
   "cell_type": "code",
   "execution_count": 5,
   "id": "6536e4be-4606-4fd7-aeea-afed5a26ee69",
   "metadata": {},
   "outputs": [
    {
     "data": {
      "text/plain": [
       "(100, 100, 3)"
      ]
     },
     "execution_count": 5,
     "metadata": {},
     "output_type": "execute_result"
    }
   ],
   "source": [
    "src_face2.shape"
   ]
  },
  {
   "cell_type": "code",
   "execution_count": 6,
   "id": "b08584c4-fba0-436f-afe9-b0eab0b4e410",
   "metadata": {},
   "outputs": [
    {
     "data": {
      "text/plain": [
       "dtype('uint8')"
      ]
     },
     "execution_count": 6,
     "metadata": {},
     "output_type": "execute_result"
    }
   ],
   "source": [
    "src_face2.dtype"
   ]
  },
  {
   "cell_type": "code",
   "execution_count": 7,
   "id": "cdc51d01-5a64-4fd3-a7d1-4d9ef0969fb0",
   "metadata": {},
   "outputs": [],
   "source": [
    "cv2.imshow('Face_Image', src_face2)\n",
    "#cv2.imwrite('.\\\\dog_face.png', src_face2)\n",
    "cv2.waitKey(0) # 0 forever \n",
    "cv2.destroyAllWindows()"
   ]
  },
  {
   "cell_type": "code",
   "execution_count": 14,
   "id": "6ddc7e9b-dc9b-49f7-8e10-5d4ef1eb00f6",
   "metadata": {},
   "outputs": [
    {
     "name": "stdout",
     "output_type": "stream",
     "text": [
      "C:\\Users\\i\\Desktop\\2021-K-Digital-Training-main\n"
     ]
    }
   ],
   "source": [
    "!cd"
   ]
  },
  {
   "cell_type": "code",
   "execution_count": null,
   "id": "eeb74d42-1b4e-4af7-8602-429e670b9f67",
   "metadata": {},
   "outputs": [],
   "source": [
    "# 새출발 2"
   ]
  },
  {
   "cell_type": "code",
   "execution_count": null,
   "id": "f9ba2640-4421-462f-b847-5d83af51f4bb",
   "metadata": {},
   "outputs": [],
   "source": [
    "# elephant1 [170:319, 79:205]    elephant에서 코끼리만 추출\n",
    "# elephant2 [70:515, 249:861]"
   ]
  },
  {
   "cell_type": "code",
   "execution_count": 1,
   "id": "314a63b5-a4bf-47da-bb23-523dc660b970",
   "metadata": {},
   "outputs": [],
   "source": [
    "import cv2"
   ]
  },
  {
   "cell_type": "code",
   "execution_count": 2,
   "id": "d3d199a3-ab43-4546-be75-c137905dfd3a",
   "metadata": {},
   "outputs": [],
   "source": [
    "src = cv2.imread('.\\\\elephant2.png', cv2.IMREAD_UNCHANGED )"
   ]
  },
  {
   "cell_type": "code",
   "execution_count": 3,
   "id": "a6037659-2197-403a-ba1a-c336f74fba8d",
   "metadata": {},
   "outputs": [],
   "source": [
    "elephant1 = src[170:319, 79:205]"
   ]
  },
  {
   "cell_type": "code",
   "execution_count": 4,
   "id": "18fd659f-3098-4c4b-ac07-96a5cdd1135a",
   "metadata": {},
   "outputs": [],
   "source": [
    "elephant2 = src[70:515, 249:861]"
   ]
  },
  {
   "cell_type": "code",
   "execution_count": 7,
   "id": "a908a0dc-ddbf-418a-b5c7-ceb80f195607",
   "metadata": {},
   "outputs": [],
   "source": [
    "cv2.imshow('Elephant 1 Image', elephant1)\n",
    "cv2.imshow('Elephant 2 Image', elephant2)\n",
    "cv2.imshow('Original Image', src)\n",
    "cv2.imwrite('.\\\\elephant1.png', elephant1)\n",
    "cv2.imwrite('.\\\\elephant2.png', elephant2)\n",
    "cv2.waitKey(0) # 0 forever \n",
    "cv2.destroyAllWindows()"
   ]
  },
  {
   "cell_type": "markdown",
   "id": "thorough-greece",
   "metadata": {},
   "source": [
    "### Video reads and frame sampling rates controll"
   ]
  },
  {
   "cell_type": "code",
   "execution_count": null,
   "id": "chinese-luxury",
   "metadata": {},
   "outputs": [],
   "source": [
    "import time\n",
    "import cv2"
   ]
  },
  {
   "cell_type": "code",
   "execution_count": null,
   "id": "deadly-enclosure",
   "metadata": {},
   "outputs": [],
   "source": [
    "# 0: Webcam or video mp4, avi etc.imput files\n",
    "#cap = cv2.VideoCapture(0)\n",
    "cap = cv2.VideoCapture('.\\\\images\\\\park_people.mp4')"
   ]
  },
  {
   "cell_type": "code",
   "execution_count": null,
   "id": "biblical-latitude",
   "metadata": {},
   "outputs": [],
   "source": [
    "# Image resolution, image width & height frame cpunts & frame rates \n",
    "print('Frame width:  {0:03d}'.format(round(cap.get(cv2.CAP_PROP_FRAME_WIDTH))))\n",
    "print('Frame height: {0:03d}'.format(round(cap.get(cv2.CAP_PROP_FRAME_HEIGHT))))\n",
    "print('Frame count:  {0:03d}'.format(round(cap.get(cv2.CAP_PROP_FRAME_COUNT))))\n",
    "\n",
    "fps = round(cap.get(cv2.CAP_PROP_FPS))\n",
    "print('FPS:          {0:03d}'.format(fps))"
   ]
  },
  {
   "cell_type": "code",
   "execution_count": null,
   "id": "institutional-suicide",
   "metadata": {},
   "outputs": [],
   "source": [
    "prev_time = 0\n",
    "FPS = 10"
   ]
  },
  {
   "cell_type": "code",
   "execution_count": null,
   "id": "stuffed-breakdown",
   "metadata": {},
   "outputs": [],
   "source": [
    "while True:\n",
    "    ret, frame = cap.read()\n",
    "\n",
    "    if not ret:\n",
    "        break\n",
    "        \n",
    "    frame = cv2.resize(frame, (0, 0), fx=0.5, fy=0.5)\n",
    "    \n",
    "    current_time = time.time() - prev_time\n",
    "\n",
    "    if (ret is True) and (current_time > 1./ FPS):\n",
    "        prev_time = time.time()\n",
    "     \n",
    "        cv2.imshow('frame', frame)\n",
    "\n",
    "    if cv2.waitKey(10) == 27:\n",
    "        break\n",
    "\n",
    "cap.release()\n",
    "cv2.destroyAllWindows()"
   ]
  },
  {
   "cell_type": "code",
   "execution_count": null,
   "id": "classified-cotton",
   "metadata": {},
   "outputs": [],
   "source": []
  }
 ],
 "metadata": {
  "kernelspec": {
   "display_name": "Python 3",
   "language": "python",
   "name": "python3"
  },
  "language_info": {
   "codemirror_mode": {
    "name": "ipython",
    "version": 3
   },
   "file_extension": ".py",
   "mimetype": "text/x-python",
   "name": "python",
   "nbconvert_exporter": "python",
   "pygments_lexer": "ipython3",
   "version": "3.7.6"
  }
 },
 "nbformat": 4,
 "nbformat_minor": 5
}
