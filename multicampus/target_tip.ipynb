{
 "cells": [
  {
   "cell_type": "code",
   "execution_count": 1,
   "id": "e0ae0b69-0dd4-42fe-87e5-86005338d9dc",
   "metadata": {},
   "outputs": [],
   "source": [
    "import pymysql.cursors\n",
    "import pandas as pd"
   ]
  },
  {
   "cell_type": "code",
   "execution_count": 2,
   "id": "6a61879f-e2a0-4927-b93c-f5e09c6c7ab5",
   "metadata": {},
   "outputs": [
    {
     "name": "stdout",
     "output_type": "stream",
     "text": [
      "     total_bill   tip     sex smoker  day    time  size\n",
      "0         16.99  1.01  Female     No  Sun  Dinner     2\n",
      "1         10.34  1.66    Male     No  Sun  Dinner     3\n",
      "2         21.01  3.50    Male     No  Sun  Dinner     3\n",
      "3         23.68  3.31    Male     No  Sun  Dinner     2\n",
      "4         24.59  3.61  Female     No  Sun  Dinner     4\n",
      "..          ...   ...     ...    ...  ...     ...   ...\n",
      "247       20.65  3.35    Male     No       Dinner     5\n",
      "248       20.65  3.35    Male     No       Dinner     4\n",
      "249       20.65  3.35    Male     No         None     4\n",
      "250       20.65  3.35    Male     No         None     5\n",
      "251       20.65  3.35    Male     No       Dinner     4\n",
      "\n",
      "[252 rows x 7 columns]\n"
     ]
    }
   ],
   "source": [
    "conn = pymysql.connect(host='localhost', user='root', \n",
    "                       password='1111', db='tip', charset='utf8',\n",
    "                       autocommit=True, cursorclass=pymysql.cursors.DictCursor)\n",
    "try:\n",
    "\n",
    "    with conn.cursor() as curs:\n",
    "      sql = \"SELECT * FROM tips;\"\n",
    "      curs.execute(sql)\n",
    "      rs = curs.fetchall()\n",
    "\n",
    "      # DB에서 받아온 값을 DataFrame에 넣음\n",
    "\n",
    "      df = pd.DataFrame(rs)\n",
    "      print(df)\n",
    "      #df.to_csv('query.csv')\n",
    "\n",
    "finally:\n",
    "\n",
    "   conn.close()"
   ]
  },
  {
   "cell_type": "code",
   "execution_count": 3,
   "id": "066e9dc9-6ab1-4b85-a1fb-38312280a8b5",
   "metadata": {},
   "outputs": [
    {
     "data": {
      "text/plain": [
       "total_bill    0\n",
       "tip           0\n",
       "sex           0\n",
       "smoker        0\n",
       "day           0\n",
       "time          2\n",
       "size          0\n",
       "dtype: int64"
      ]
     },
     "execution_count": 3,
     "metadata": {},
     "output_type": "execute_result"
    }
   ],
   "source": [
    "df.isnull().sum()"
   ]
  },
  {
   "cell_type": "code",
   "execution_count": 4,
   "id": "97f91bd3-6864-4469-9ac2-aa49d5740168",
   "metadata": {},
   "outputs": [],
   "source": [
    "#encoding  #inplace를 사용하면 원본에 적용이 된다. 데이터를 copy하여 변환하는 것이 아니라 원본 데이터에 직접 변환작업을 진행하고 메모리에 적용이 됨"
   ]
  },
  {
   "cell_type": "code",
   "execution_count": 5,
   "id": "17989fa0-ee69-48ed-b424-6642a547d395",
   "metadata": {},
   "outputs": [],
   "source": [
    "df['sex'].replace({'Female':0, 'Male':1}, inplace=True)\n",
    "df[\"smoker\"].replace({\"No\" : 0, \"Yes\" : 1}, inplace=True)\n",
    "df[\"day\"].replace({\"Thur\" : 0, \"Fri\" : 1, \"Sat\" : 2, \"Sun\" : 3}, inplace=True)\n",
    "df[\"time\"].replace({\"Lunch\" : 0, \"Dinner\" : 1}, inplace=True)"
   ]
  },
  {
   "cell_type": "code",
   "execution_count": 6,
   "id": "6f95f4e8-6209-412e-b240-11f05147bbf2",
   "metadata": {},
   "outputs": [],
   "source": [
    "import numpy as np"
   ]
  },
  {
   "cell_type": "code",
   "execution_count": 7,
   "id": "c3c12dcb-b625-47cb-b258-3a125abc3518",
   "metadata": {},
   "outputs": [],
   "source": [
    "df.replace('', np.nan, inplace=True)"
   ]
  },
  {
   "cell_type": "code",
   "execution_count": 8,
   "id": "961f9512-d137-44ab-aac5-533a052ae817",
   "metadata": {},
   "outputs": [
    {
     "data": {
      "text/html": [
       "<div>\n",
       "<style scoped>\n",
       "    .dataframe tbody tr th:only-of-type {\n",
       "        vertical-align: middle;\n",
       "    }\n",
       "\n",
       "    .dataframe tbody tr th {\n",
       "        vertical-align: top;\n",
       "    }\n",
       "\n",
       "    .dataframe thead th {\n",
       "        text-align: right;\n",
       "    }\n",
       "</style>\n",
       "<table border=\"1\" class=\"dataframe\">\n",
       "  <thead>\n",
       "    <tr style=\"text-align: right;\">\n",
       "      <th></th>\n",
       "      <th>total_bill</th>\n",
       "      <th>tip</th>\n",
       "      <th>sex</th>\n",
       "      <th>smoker</th>\n",
       "      <th>day</th>\n",
       "      <th>time</th>\n",
       "      <th>size</th>\n",
       "    </tr>\n",
       "  </thead>\n",
       "  <tbody>\n",
       "    <tr>\n",
       "      <th>count</th>\n",
       "      <td>252.000000</td>\n",
       "      <td>252.000000</td>\n",
       "      <td>252.000000</td>\n",
       "      <td>252.000000</td>\n",
       "      <td>246.000000</td>\n",
       "      <td>250.000000</td>\n",
       "      <td>252.000000</td>\n",
       "    </tr>\n",
       "    <tr>\n",
       "      <th>mean</th>\n",
       "      <td>19.757937</td>\n",
       "      <td>2.993452</td>\n",
       "      <td>0.650794</td>\n",
       "      <td>0.369048</td>\n",
       "      <td>1.735772</td>\n",
       "      <td>0.728000</td>\n",
       "      <td>2.611111</td>\n",
       "    </tr>\n",
       "    <tr>\n",
       "      <th>std</th>\n",
       "      <td>8.782405</td>\n",
       "      <td>1.370859</td>\n",
       "      <td>0.477668</td>\n",
       "      <td>0.483507</td>\n",
       "      <td>1.156746</td>\n",
       "      <td>0.445883</td>\n",
       "      <td>0.977616</td>\n",
       "    </tr>\n",
       "    <tr>\n",
       "      <th>min</th>\n",
       "      <td>3.070000</td>\n",
       "      <td>1.000000</td>\n",
       "      <td>0.000000</td>\n",
       "      <td>0.000000</td>\n",
       "      <td>0.000000</td>\n",
       "      <td>0.000000</td>\n",
       "      <td>1.000000</td>\n",
       "    </tr>\n",
       "    <tr>\n",
       "      <th>25%</th>\n",
       "      <td>13.385000</td>\n",
       "      <td>2.000000</td>\n",
       "      <td>0.000000</td>\n",
       "      <td>0.000000</td>\n",
       "      <td>0.250000</td>\n",
       "      <td>0.000000</td>\n",
       "      <td>2.000000</td>\n",
       "    </tr>\n",
       "    <tr>\n",
       "      <th>50%</th>\n",
       "      <td>17.855000</td>\n",
       "      <td>3.000000</td>\n",
       "      <td>1.000000</td>\n",
       "      <td>0.000000</td>\n",
       "      <td>2.000000</td>\n",
       "      <td>1.000000</td>\n",
       "      <td>2.000000</td>\n",
       "    </tr>\n",
       "    <tr>\n",
       "      <th>75%</th>\n",
       "      <td>24.022500</td>\n",
       "      <td>3.502500</td>\n",
       "      <td>1.000000</td>\n",
       "      <td>1.000000</td>\n",
       "      <td>3.000000</td>\n",
       "      <td>1.000000</td>\n",
       "      <td>3.000000</td>\n",
       "    </tr>\n",
       "    <tr>\n",
       "      <th>max</th>\n",
       "      <td>50.810000</td>\n",
       "      <td>10.000000</td>\n",
       "      <td>1.000000</td>\n",
       "      <td>1.000000</td>\n",
       "      <td>3.000000</td>\n",
       "      <td>1.000000</td>\n",
       "      <td>6.000000</td>\n",
       "    </tr>\n",
       "  </tbody>\n",
       "</table>\n",
       "</div>"
      ],
      "text/plain": [
       "       total_bill         tip         sex      smoker         day        time  \\\n",
       "count  252.000000  252.000000  252.000000  252.000000  246.000000  250.000000   \n",
       "mean    19.757937    2.993452    0.650794    0.369048    1.735772    0.728000   \n",
       "std      8.782405    1.370859    0.477668    0.483507    1.156746    0.445883   \n",
       "min      3.070000    1.000000    0.000000    0.000000    0.000000    0.000000   \n",
       "25%     13.385000    2.000000    0.000000    0.000000    0.250000    0.000000   \n",
       "50%     17.855000    3.000000    1.000000    0.000000    2.000000    1.000000   \n",
       "75%     24.022500    3.502500    1.000000    1.000000    3.000000    1.000000   \n",
       "max     50.810000   10.000000    1.000000    1.000000    3.000000    1.000000   \n",
       "\n",
       "             size  \n",
       "count  252.000000  \n",
       "mean     2.611111  \n",
       "std      0.977616  \n",
       "min      1.000000  \n",
       "25%      2.000000  \n",
       "50%      2.000000  \n",
       "75%      3.000000  \n",
       "max      6.000000  "
      ]
     },
     "execution_count": 8,
     "metadata": {},
     "output_type": "execute_result"
    }
   ],
   "source": [
    "df.describe()"
   ]
  },
  {
   "cell_type": "code",
   "execution_count": 9,
   "id": "831b3924-0852-45cb-b9d6-f3de82a3673c",
   "metadata": {},
   "outputs": [],
   "source": [
    "from sklearn.impute import SimpleImputer\n",
    "data = df.values"
   ]
  },
  {
   "cell_type": "code",
   "execution_count": 10,
   "id": "08104a92-e127-454a-973f-4ab1cc8edc39",
   "metadata": {},
   "outputs": [],
   "source": [
    "y = df['tip']  #Target variable -> Tip"
   ]
  },
  {
   "cell_type": "code",
   "execution_count": 11,
   "id": "5c9f0970-75f5-40ca-8bd4-136299c99901",
   "metadata": {},
   "outputs": [
    {
     "data": {
      "text/plain": [
       "Index(['total_bill', 'sex', 'smoker', 'day', 'time', 'size'], dtype='object')"
      ]
     },
     "execution_count": 11,
     "metadata": {},
     "output_type": "execute_result"
    }
   ],
   "source": [
    "X = df.drop('tip', axis = 1)\n",
    "X.columns"
   ]
  },
  {
   "cell_type": "code",
   "execution_count": 12,
   "id": "d160ea65-b1f0-4905-a50b-291408b98804",
   "metadata": {},
   "outputs": [
    {
     "data": {
      "text/plain": [
       "count    252.000000\n",
       "mean       2.993452\n",
       "std        1.370859\n",
       "min        1.000000\n",
       "25%        2.000000\n",
       "50%        3.000000\n",
       "75%        3.502500\n",
       "max       10.000000\n",
       "Name: tip, dtype: float64"
      ]
     },
     "execution_count": 12,
     "metadata": {},
     "output_type": "execute_result"
    }
   ],
   "source": [
    "y.describe()"
   ]
  },
  {
   "cell_type": "code",
   "execution_count": 13,
   "id": "26ebe1a5-d31c-4c81-b27f-759687ce1a39",
   "metadata": {},
   "outputs": [],
   "source": [
    "data=X.values # Train data"
   ]
  },
  {
   "cell_type": "code",
   "execution_count": 14,
   "id": "a00c1b98-4ce4-4e66-8db1-ca6d2453d8a8",
   "metadata": {},
   "outputs": [],
   "source": [
    "y=y.values"
   ]
  },
  {
   "cell_type": "code",
   "execution_count": 15,
   "id": "b376f771-2d2b-4dc2-a0dd-f0ba7ab094f8",
   "metadata": {},
   "outputs": [
    {
     "data": {
      "text/plain": [
       "8"
      ]
     },
     "execution_count": 15,
     "metadata": {},
     "output_type": "execute_result"
    }
   ],
   "source": [
    "sum(np.isnan(data).flatten())"
   ]
  },
  {
   "cell_type": "code",
   "execution_count": 16,
   "id": "99ea33c6-f9c8-4fdc-b53d-3bc3c5bc9e6c",
   "metadata": {},
   "outputs": [
    {
     "data": {
      "text/plain": [
       "0"
      ]
     },
     "execution_count": 16,
     "metadata": {},
     "output_type": "execute_result"
    }
   ],
   "source": [
    "sum(np.isnan(y).flatten())"
   ]
  },
  {
   "cell_type": "code",
   "execution_count": 17,
   "id": "083c545a-19b4-4dbd-9802-21a49122db4c",
   "metadata": {},
   "outputs": [],
   "source": [
    "imputer = SimpleImputer(strategy='median')"
   ]
  },
  {
   "cell_type": "code",
   "execution_count": 18,
   "id": "a5cedd5c-fefa-43b9-883e-3f01d54badc8",
   "metadata": {},
   "outputs": [
    {
     "data": {
      "text/plain": [
       "SimpleImputer(strategy='median')"
      ]
     },
     "execution_count": 18,
     "metadata": {},
     "output_type": "execute_result"
    }
   ],
   "source": [
    "imputer.fit(data)"
   ]
  },
  {
   "cell_type": "code",
   "execution_count": 19,
   "id": "8e83097a-80eb-4a32-a98e-885ec62076aa",
   "metadata": {},
   "outputs": [],
   "source": [
    "data_trans = imputer.transform(data) # Imputed data set"
   ]
  },
  {
   "cell_type": "code",
   "execution_count": 20,
   "id": "4f671e03-dc2f-4be9-a16f-7e6055de934d",
   "metadata": {},
   "outputs": [],
   "source": [
    "#RFE"
   ]
  },
  {
   "cell_type": "code",
   "execution_count": 21,
   "id": "3c49d2f2-4b00-4c10-a94b-a339e5918b7a",
   "metadata": {},
   "outputs": [],
   "source": [
    "from sklearn.feature_selection import RFE\n",
    "from sklearn.svm import SVR"
   ]
  },
  {
   "cell_type": "code",
   "execution_count": 22,
   "id": "ad25bc0e-ca8c-49f3-ad9e-03aed61d19a3",
   "metadata": {},
   "outputs": [],
   "source": [
    "estimator = SVR(kernel=\"linear\")"
   ]
  },
  {
   "cell_type": "code",
   "execution_count": 23,
   "id": "db2713fc-758a-4f2d-bfcc-3319a16208c7",
   "metadata": {},
   "outputs": [],
   "source": [
    "rfe = RFE(estimator, n_features_to_select=4)"
   ]
  },
  {
   "cell_type": "code",
   "execution_count": 24,
   "id": "714b5eb7-8353-4b56-a017-c7d5f7b6efdd",
   "metadata": {},
   "outputs": [],
   "source": [
    "selector=rfe.fit(data_trans, y)"
   ]
  },
  {
   "cell_type": "code",
   "execution_count": 25,
   "id": "792e56bf-ec50-47fb-ad82-1c43fdeb4ef8",
   "metadata": {},
   "outputs": [
    {
     "data": {
      "text/plain": [
       "array([ True,  True, False, False,  True,  True])"
      ]
     },
     "execution_count": 25,
     "metadata": {},
     "output_type": "execute_result"
    }
   ],
   "source": [
    "selector.support_"
   ]
  },
  {
   "cell_type": "code",
   "execution_count": 26,
   "id": "7f5679ad-b7f1-4ec9-8b4a-419a02bf3b6f",
   "metadata": {},
   "outputs": [
    {
     "name": "stdout",
     "output_type": "stream",
     "text": [
      "Column: 0,  Rank: 1\n",
      "Column: 1,  Rank: 1\n",
      "Column: 2,  Rank: 3\n",
      "Column: 3,  Rank: 2\n",
      "Column: 4,  Rank: 1\n",
      "Column: 5,  Rank: 1\n"
     ]
    }
   ],
   "source": [
    "for i in range(data_trans.shape[1]):\n",
    "  print('Column: %d,  Rank: %d' % (i,  rfe.ranking_[i]))"
   ]
  },
  {
   "cell_type": "code",
   "execution_count": 27,
   "id": "ad0ded5c-4e7d-4282-a820-a2f47a7946b5",
   "metadata": {},
   "outputs": [],
   "source": [
    "df1=pd.DataFrame(data_trans, columns=['total_bill', 'sex', 'smoker', 'day', 'time', 'size'])"
   ]
  },
  {
   "cell_type": "code",
   "execution_count": 28,
   "id": "118ece4d-8ba0-4a67-9c04-704390a33598",
   "metadata": {},
   "outputs": [
    {
     "data": {
      "text/plain": [
       "Index(['total_bill', 'sex', 'smoker', 'day', 'time', 'size'], dtype='object')"
      ]
     },
     "execution_count": 28,
     "metadata": {},
     "output_type": "execute_result"
    }
   ],
   "source": [
    "df1.columns"
   ]
  },
  {
   "cell_type": "code",
   "execution_count": 29,
   "id": "140df664-0d3e-4407-a866-0d5e48f1dded",
   "metadata": {},
   "outputs": [
    {
     "data": {
      "text/html": [
       "<div>\n",
       "<style scoped>\n",
       "    .dataframe tbody tr th:only-of-type {\n",
       "        vertical-align: middle;\n",
       "    }\n",
       "\n",
       "    .dataframe tbody tr th {\n",
       "        vertical-align: top;\n",
       "    }\n",
       "\n",
       "    .dataframe thead th {\n",
       "        text-align: right;\n",
       "    }\n",
       "</style>\n",
       "<table border=\"1\" class=\"dataframe\">\n",
       "  <thead>\n",
       "    <tr style=\"text-align: right;\">\n",
       "      <th></th>\n",
       "      <th>total_bill</th>\n",
       "      <th>sex</th>\n",
       "      <th>time</th>\n",
       "      <th>size</th>\n",
       "    </tr>\n",
       "  </thead>\n",
       "  <tbody>\n",
       "    <tr>\n",
       "      <th>0</th>\n",
       "      <td>16.99</td>\n",
       "      <td>0.0</td>\n",
       "      <td>1.0</td>\n",
       "      <td>2.0</td>\n",
       "    </tr>\n",
       "    <tr>\n",
       "      <th>1</th>\n",
       "      <td>10.34</td>\n",
       "      <td>1.0</td>\n",
       "      <td>1.0</td>\n",
       "      <td>3.0</td>\n",
       "    </tr>\n",
       "    <tr>\n",
       "      <th>2</th>\n",
       "      <td>21.01</td>\n",
       "      <td>1.0</td>\n",
       "      <td>1.0</td>\n",
       "      <td>3.0</td>\n",
       "    </tr>\n",
       "    <tr>\n",
       "      <th>3</th>\n",
       "      <td>23.68</td>\n",
       "      <td>1.0</td>\n",
       "      <td>1.0</td>\n",
       "      <td>2.0</td>\n",
       "    </tr>\n",
       "    <tr>\n",
       "      <th>4</th>\n",
       "      <td>24.59</td>\n",
       "      <td>0.0</td>\n",
       "      <td>1.0</td>\n",
       "      <td>4.0</td>\n",
       "    </tr>\n",
       "    <tr>\n",
       "      <th>...</th>\n",
       "      <td>...</td>\n",
       "      <td>...</td>\n",
       "      <td>...</td>\n",
       "      <td>...</td>\n",
       "    </tr>\n",
       "    <tr>\n",
       "      <th>247</th>\n",
       "      <td>20.65</td>\n",
       "      <td>1.0</td>\n",
       "      <td>1.0</td>\n",
       "      <td>5.0</td>\n",
       "    </tr>\n",
       "    <tr>\n",
       "      <th>248</th>\n",
       "      <td>20.65</td>\n",
       "      <td>1.0</td>\n",
       "      <td>1.0</td>\n",
       "      <td>4.0</td>\n",
       "    </tr>\n",
       "    <tr>\n",
       "      <th>249</th>\n",
       "      <td>20.65</td>\n",
       "      <td>1.0</td>\n",
       "      <td>1.0</td>\n",
       "      <td>4.0</td>\n",
       "    </tr>\n",
       "    <tr>\n",
       "      <th>250</th>\n",
       "      <td>20.65</td>\n",
       "      <td>1.0</td>\n",
       "      <td>1.0</td>\n",
       "      <td>5.0</td>\n",
       "    </tr>\n",
       "    <tr>\n",
       "      <th>251</th>\n",
       "      <td>20.65</td>\n",
       "      <td>1.0</td>\n",
       "      <td>1.0</td>\n",
       "      <td>4.0</td>\n",
       "    </tr>\n",
       "  </tbody>\n",
       "</table>\n",
       "<p>252 rows × 4 columns</p>\n",
       "</div>"
      ],
      "text/plain": [
       "     total_bill  sex  time  size\n",
       "0         16.99  0.0   1.0   2.0\n",
       "1         10.34  1.0   1.0   3.0\n",
       "2         21.01  1.0   1.0   3.0\n",
       "3         23.68  1.0   1.0   2.0\n",
       "4         24.59  0.0   1.0   4.0\n",
       "..          ...  ...   ...   ...\n",
       "247       20.65  1.0   1.0   5.0\n",
       "248       20.65  1.0   1.0   4.0\n",
       "249       20.65  1.0   1.0   4.0\n",
       "250       20.65  1.0   1.0   5.0\n",
       "251       20.65  1.0   1.0   4.0\n",
       "\n",
       "[252 rows x 4 columns]"
      ]
     },
     "execution_count": 29,
     "metadata": {},
     "output_type": "execute_result"
    }
   ],
   "source": [
    "df1.drop(['smoker', 'day'], axis=1)"
   ]
  },
  {
   "cell_type": "code",
   "execution_count": 31,
   "id": "6f7c719c-5415-40f7-9e89-db05aeed91c0",
   "metadata": {},
   "outputs": [],
   "source": [
    "#PCA"
   ]
  },
  {
   "cell_type": "code",
   "execution_count": 32,
   "id": "80fefc08-b32a-4fe4-8158-9635bfcb25ec",
   "metadata": {},
   "outputs": [],
   "source": [
    "from sklearn.decomposition import PCA"
   ]
  },
  {
   "cell_type": "code",
   "execution_count": 33,
   "id": "7f5f1532-3f11-4881-a70f-d4ce1f18fe92",
   "metadata": {},
   "outputs": [
    {
     "data": {
      "text/plain": [
       "(252, 6)"
      ]
     },
     "execution_count": 33,
     "metadata": {},
     "output_type": "execute_result"
    }
   ],
   "source": [
    "data_trans.shape"
   ]
  },
  {
   "cell_type": "code",
   "execution_count": 34,
   "id": "8e167d21-7363-4a44-a659-6d0f1128d413",
   "metadata": {},
   "outputs": [
    {
     "name": "stdout",
     "output_type": "stream",
     "text": [
      "[[-2.77710332 -1.23648462 -0.48316348  0.71891134]\n",
      " [-9.33894108 -1.63677018  0.88446339 -0.2603256 ]\n",
      " [ 1.30542375 -1.30900723  0.25706786 -0.22802118]]\n"
     ]
    }
   ],
   "source": [
    "trans = PCA(n_components=4)\n",
    "X_dim = trans.fit_transform(data_trans)\n",
    "print(X_dim[:3, :])"
   ]
  },
  {
   "cell_type": "code",
   "execution_count": 35,
   "id": "ec821003-c5a6-4f77-b132-6d74d18e9f50",
   "metadata": {},
   "outputs": [],
   "source": [
    "from sklearn.feature_selection import SelectKBest\n",
    "from sklearn.feature_selection import f_regression"
   ]
  },
  {
   "cell_type": "code",
   "execution_count": 36,
   "id": "de5165f4-6551-46b6-bebd-9fdbc2ef7c16",
   "metadata": {},
   "outputs": [],
   "source": [
    "fs = SelectKBest(score_func=f_regression, k=4)"
   ]
  },
  {
   "cell_type": "code",
   "execution_count": 37,
   "id": "c6a73853-ce07-46e7-a865-d53aef8717c8",
   "metadata": {},
   "outputs": [],
   "source": [
    "X_selected = fs.fit_transform(data_trans, y)"
   ]
  },
  {
   "cell_type": "code",
   "execution_count": 38,
   "id": "0e501bf5-931e-4920-8ba4-fc9ff97c5fe6",
   "metadata": {},
   "outputs": [],
   "source": [
    "parameters = fs.get_params(deep=True)"
   ]
  },
  {
   "cell_type": "code",
   "execution_count": 39,
   "id": "968bd6b1-2087-4a60-8965-a7e67f75a371",
   "metadata": {},
   "outputs": [
    {
     "data": {
      "text/plain": [
       "{'k': 4,\n",
       " 'score_func': <function sklearn.feature_selection._univariate_selection.f_regression(X, y, *, center=True)>}"
      ]
     },
     "execution_count": 39,
     "metadata": {},
     "output_type": "execute_result"
    }
   ],
   "source": [
    "parameters"
   ]
  },
  {
   "cell_type": "code",
   "execution_count": 40,
   "id": "5bfaeac1-1148-4bb9-a2d9-1a8d5ad58bbd",
   "metadata": {},
   "outputs": [
    {
     "data": {
      "text/plain": [
       "<function sklearn.feature_selection._univariate_selection.f_regression(X, y, *, center=True)>"
      ]
     },
     "execution_count": 40,
     "metadata": {},
     "output_type": "execute_result"
    }
   ],
   "source": [
    "parameters['score_func']"
   ]
  },
  {
   "cell_type": "code",
   "execution_count": 41,
   "id": "d16c7d35-e84d-4085-8abb-8e261cce49b2",
   "metadata": {},
   "outputs": [
    {
     "name": "stdout",
     "output_type": "stream",
     "text": [
      "(252, 4)\n"
     ]
    }
   ],
   "source": [
    "print(X_selected.shape)"
   ]
  },
  {
   "cell_type": "code",
   "execution_count": 42,
   "id": "675a8c36-a718-41f7-b4b3-cf02f1a26c81",
   "metadata": {},
   "outputs": [
    {
     "data": {
      "text/plain": [
       "4"
      ]
     },
     "execution_count": 42,
     "metadata": {},
     "output_type": "execute_result"
    }
   ],
   "source": [
    "X_selected.shape[1]"
   ]
  },
  {
   "cell_type": "code",
   "execution_count": 43,
   "id": "2b5a5952-87ad-4e2a-bf7e-f5c0b5d8c5b9",
   "metadata": {},
   "outputs": [],
   "source": [
    "df_rfe_selected = pd.DataFrame(X_selected, columns=['total_bill', 'day', 'time', 'size'])"
   ]
  },
  {
   "cell_type": "code",
   "execution_count": 44,
   "id": "9b17dd36-3a6d-4c2c-be5a-dba69e441a93",
   "metadata": {},
   "outputs": [
    {
     "data": {
      "text/html": [
       "<div>\n",
       "<style scoped>\n",
       "    .dataframe tbody tr th:only-of-type {\n",
       "        vertical-align: middle;\n",
       "    }\n",
       "\n",
       "    .dataframe tbody tr th {\n",
       "        vertical-align: top;\n",
       "    }\n",
       "\n",
       "    .dataframe thead th {\n",
       "        text-align: right;\n",
       "    }\n",
       "</style>\n",
       "<table border=\"1\" class=\"dataframe\">\n",
       "  <thead>\n",
       "    <tr style=\"text-align: right;\">\n",
       "      <th></th>\n",
       "      <th>total_bill</th>\n",
       "      <th>day</th>\n",
       "      <th>time</th>\n",
       "      <th>size</th>\n",
       "    </tr>\n",
       "  </thead>\n",
       "  <tbody>\n",
       "    <tr>\n",
       "      <th>count</th>\n",
       "      <td>252.000000</td>\n",
       "      <td>252.000000</td>\n",
       "      <td>252.000000</td>\n",
       "      <td>252.000000</td>\n",
       "    </tr>\n",
       "    <tr>\n",
       "      <th>mean</th>\n",
       "      <td>19.757937</td>\n",
       "      <td>1.742063</td>\n",
       "      <td>0.730159</td>\n",
       "      <td>2.611111</td>\n",
       "    </tr>\n",
       "    <tr>\n",
       "      <th>std</th>\n",
       "      <td>8.782405</td>\n",
       "      <td>1.143550</td>\n",
       "      <td>0.444761</td>\n",
       "      <td>0.977616</td>\n",
       "    </tr>\n",
       "    <tr>\n",
       "      <th>min</th>\n",
       "      <td>3.070000</td>\n",
       "      <td>0.000000</td>\n",
       "      <td>0.000000</td>\n",
       "      <td>1.000000</td>\n",
       "    </tr>\n",
       "    <tr>\n",
       "      <th>25%</th>\n",
       "      <td>13.385000</td>\n",
       "      <td>1.000000</td>\n",
       "      <td>0.000000</td>\n",
       "      <td>2.000000</td>\n",
       "    </tr>\n",
       "    <tr>\n",
       "      <th>50%</th>\n",
       "      <td>17.855000</td>\n",
       "      <td>2.000000</td>\n",
       "      <td>1.000000</td>\n",
       "      <td>2.000000</td>\n",
       "    </tr>\n",
       "    <tr>\n",
       "      <th>75%</th>\n",
       "      <td>24.022500</td>\n",
       "      <td>3.000000</td>\n",
       "      <td>1.000000</td>\n",
       "      <td>3.000000</td>\n",
       "    </tr>\n",
       "    <tr>\n",
       "      <th>max</th>\n",
       "      <td>50.810000</td>\n",
       "      <td>3.000000</td>\n",
       "      <td>1.000000</td>\n",
       "      <td>6.000000</td>\n",
       "    </tr>\n",
       "  </tbody>\n",
       "</table>\n",
       "</div>"
      ],
      "text/plain": [
       "       total_bill         day        time        size\n",
       "count  252.000000  252.000000  252.000000  252.000000\n",
       "mean    19.757937    1.742063    0.730159    2.611111\n",
       "std      8.782405    1.143550    0.444761    0.977616\n",
       "min      3.070000    0.000000    0.000000    1.000000\n",
       "25%     13.385000    1.000000    0.000000    2.000000\n",
       "50%     17.855000    2.000000    1.000000    2.000000\n",
       "75%     24.022500    3.000000    1.000000    3.000000\n",
       "max     50.810000    3.000000    1.000000    6.000000"
      ]
     },
     "execution_count": 44,
     "metadata": {},
     "output_type": "execute_result"
    }
   ],
   "source": [
    "df_rfe_selected.describe()"
   ]
  },
  {
   "cell_type": "code",
   "execution_count": null,
   "id": "79447f9a-5304-49d3-b4bb-2ccd806ee8b4",
   "metadata": {},
   "outputs": [],
   "source": []
  }
 ],
 "metadata": {
  "kernelspec": {
   "display_name": "Python Multi",
   "language": "python",
   "name": "multi"
  },
  "language_info": {
   "codemirror_mode": {
    "name": "ipython",
    "version": 3
   },
   "file_extension": ".py",
   "mimetype": "text/x-python",
   "name": "python",
   "nbconvert_exporter": "python",
   "pygments_lexer": "ipython3",
   "version": "3.7.6"
  }
 },
 "nbformat": 4,
 "nbformat_minor": 5
}
